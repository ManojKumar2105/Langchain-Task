{
  "nbformat": 4,
  "nbformat_minor": 0,
  "metadata": {
    "colab": {
      "provenance": [],
      "authorship_tag": "ABX9TyNYXGF58+S5tuN8R7s8YhBg",
      "include_colab_link": true
    },
    "kernelspec": {
      "name": "python3",
      "display_name": "Python 3"
    },
    "language_info": {
      "name": "python"
    }
  },
  "cells": [
    {
      "cell_type": "markdown",
      "metadata": {
        "id": "view-in-github",
        "colab_type": "text"
      },
      "source": [
        "<a href=\"https://colab.research.google.com/github/ManojKumar2105/Langchain-Task/blob/main/Output_Parser.ipynb\" target=\"_parent\"><img src=\"https://colab.research.google.com/assets/colab-badge.svg\" alt=\"Open In Colab\"/></a>"
      ]
    },
    {
      "cell_type": "code",
      "execution_count": 1,
      "metadata": {
        "colab": {
          "base_uri": "https://localhost:8080/"
        },
        "id": "7WPbjWRnulr6",
        "outputId": "c2215b6d-1806-4575-ea61-3b54916139a4"
      },
      "outputs": [
        {
          "output_type": "stream",
          "name": "stdout",
          "text": [
            "\u001b[?25l     \u001b[90m━━━━━━━━━━━━━━━━━━━━━━━━━━━━━━━━━━━━━━━━\u001b[0m \u001b[32m0.0/1.2 MB\u001b[0m \u001b[31m?\u001b[0m eta \u001b[36m-:--:--\u001b[0m\r\u001b[2K     \u001b[91m━━━━━━━━━━\u001b[0m\u001b[90m╺\u001b[0m\u001b[90m━━━━━━━━━━━━━━━━━━━━━━━━━━━━━\u001b[0m \u001b[32m0.3/1.2 MB\u001b[0m \u001b[31m9.1 MB/s\u001b[0m eta \u001b[36m0:00:01\u001b[0m\r\u001b[2K     \u001b[91m━━━━━━━━━━━━━━━━━━━━━━━━━━━━━━━━━━━━━━━\u001b[0m\u001b[91m╸\u001b[0m \u001b[32m1.2/1.2 MB\u001b[0m \u001b[31m20.6 MB/s\u001b[0m eta \u001b[36m0:00:01\u001b[0m\r\u001b[2K     \u001b[90m━━━━━━━━━━━━━━━━━━━━━━━━━━━━━━━━━━━━━━━━\u001b[0m \u001b[32m1.2/1.2 MB\u001b[0m \u001b[31m16.5 MB/s\u001b[0m eta \u001b[36m0:00:00\u001b[0m\n",
            "\u001b[2K     \u001b[90m━━━━━━━━━━━━━━━━━━━━━━━━━━━━━━━━━━━━━━━━\u001b[0m \u001b[32m73.6/73.6 kB\u001b[0m \u001b[31m8.2 MB/s\u001b[0m eta \u001b[36m0:00:00\u001b[0m\n",
            "\u001b[2K     \u001b[90m━━━━━━━━━━━━━━━━━━━━━━━━━━━━━━━━━━━━━━━━\u001b[0m \u001b[32m1.7/1.7 MB\u001b[0m \u001b[31m48.1 MB/s\u001b[0m eta \u001b[36m0:00:00\u001b[0m\n",
            "\u001b[2K     \u001b[90m━━━━━━━━━━━━━━━━━━━━━━━━━━━━━━━━━━━━━━━━\u001b[0m \u001b[32m90.0/90.0 kB\u001b[0m \u001b[31m10.6 MB/s\u001b[0m eta \u001b[36m0:00:00\u001b[0m\n",
            "\u001b[2K     \u001b[90m━━━━━━━━━━━━━━━━━━━━━━━━━━━━━━━━━━━━━━━━\u001b[0m \u001b[32m49.1/49.1 kB\u001b[0m \u001b[31m5.5 MB/s\u001b[0m eta \u001b[36m0:00:00\u001b[0m\n",
            "\u001b[?25h"
          ]
        }
      ],
      "source": [
        "!pip -q install langchain openai tiktoken"
      ]
    },
    {
      "cell_type": "code",
      "source": [
        "import os\n",
        "import openai\n",
        "import tiktoken\n",
        "from getpass import getpass\n",
        "\n",
        "OPENAI_API_KEY = getpass()\n",
        "os.environ[\"OPENAI_API_KEY\"] = OPENAI_API_KEY\n",
        "openai.api_key = os.getenv(\"OPENAI_API_KEY\")"
      ],
      "metadata": {
        "colab": {
          "base_uri": "https://localhost:8080/"
        },
        "id": "z8r3S157u-OC",
        "outputId": "5b62eb1d-c4a1-4d8f-b43e-0630868aa5dd"
      },
      "execution_count": 8,
      "outputs": [
        {
          "name": "stdout",
          "output_type": "stream",
          "text": [
            "··········\n"
          ]
        }
      ]
    },
    {
      "cell_type": "code",
      "source": [
        "from langchain.chat_models import ChatOpenAI\n",
        "llm = ChatOpenAI(temperature=0)"
      ],
      "metadata": {
        "id": "dEV1tAMbvDG0"
      },
      "execution_count": 9,
      "outputs": []
    },
    {
      "cell_type": "code",
      "source": [
        "template_string_1= \"\"\"You are a master branding consulatant who specializes in naming brands. \\\n",
        "You come up with catchy and memorable brand names.\n",
        "\n",
        "Take the brand description below delimited by triple backticks and use it to create the name for a brand.\n",
        "\n",
        "brand description: ```{brand_description}```\n",
        "\n",
        "then based on the description and give hot new brand name give the brand a score 1-10 for how likely it is to succeed and give the reason for choosing the name.\n",
        "\"\"\""
      ],
      "metadata": {
        "id": "ngTooVtKvS-b"
      },
      "execution_count": 29,
      "outputs": []
    },
    {
      "cell_type": "code",
      "source": [
        "from langchain.prompts import ChatPromptTemplate\n",
        "prompt_template = ChatPromptTemplate.from_template(template_string_1)"
      ],
      "metadata": {
        "id": "x3SdvQPAvj6d"
      },
      "execution_count": 30,
      "outputs": []
    },
    {
      "cell_type": "code",
      "source": [
        "brand = prompt_template.format_messages( brand_description=\"Revolutionize your mobile experience with the sleek elegance and cutting-edge technology, where innovation meets style.\")\n",
        "brand"
      ],
      "metadata": {
        "colab": {
          "base_uri": "https://localhost:8080/"
        },
        "id": "f3elMFoPvm1b",
        "outputId": "6645235a-6a0d-45a2-8433-22f5e55b5cf9"
      },
      "execution_count": 6,
      "outputs": [
        {
          "output_type": "execute_result",
          "data": {
            "text/plain": [
              "[HumanMessage(content='You are a master branding consulatant who specializes in naming brands. You come up with catchy and memorable brand names.\\n\\nTake the brand description below delimited by triple backticks and use it to create the name for a brand.\\n\\nbrand description: ```Revolutionize your mobile experience with the sleek elegance and cutting-edge technology, where innovation meets style.```\\n\\nthen based on the description and give hot new brand name give the brand a score 1-10 for how likely it is to succeed and give the reason for choosing the name.\\n', additional_kwargs={}, example=False)]"
            ]
          },
          "metadata": {},
          "execution_count": 6
        }
      ]
    },
    {
      "cell_type": "code",
      "source": [
        "response = llm(brand)\n",
        "response"
      ],
      "metadata": {
        "colab": {
          "base_uri": "https://localhost:8080/"
        },
        "id": "A0akyXf3v0eX",
        "outputId": "6cec0e75-9be9-4598-f3ac-fc20176a09b4"
      },
      "execution_count": 31,
      "outputs": [
        {
          "output_type": "execute_result",
          "data": {
            "text/plain": [
              "AIMessage(content='Brand Name: ElegaTech\\n\\nScore: 9\\n\\nReasoning: ElegaTech combines the words \"elegance\" and \"technology\" to create a catchy and memorable brand name. It reflects the sleek and stylish nature of the mobile experience being offered, while also emphasizing the cutting-edge innovation. The name has a modern and sophisticated feel, which aligns perfectly with the brand description. It is likely to succeed as it effectively communicates the brand\\'s key attributes and creates a strong brand identity.', additional_kwargs={}, example=False)"
            ]
          },
          "metadata": {},
          "execution_count": 31
        }
      ]
    },
    {
      "cell_type": "code",
      "source": [
        "print(response.content)"
      ],
      "metadata": {
        "colab": {
          "base_uri": "https://localhost:8080/"
        },
        "id": "TsFeWYXuwNh2",
        "outputId": "dea8ac5e-0f8a-4840-9955-0aad4037c8e8"
      },
      "execution_count": 11,
      "outputs": [
        {
          "output_type": "stream",
          "name": "stdout",
          "text": [
            "Brand Name: ElegaTech\n",
            "\n",
            "Score: 9\n",
            "\n",
            "Reasoning: ElegaTech captures the essence of the brand description by combining the words \"elegance\" and \"technology.\" The name suggests a sophisticated and stylish mobile experience, aligning with the brand's promise of sleek elegance and cutting-edge technology. It is catchy, memorable, and evokes a sense of innovation and modernity. The name ElegaTech is likely to succeed as it effectively communicates the brand's unique selling points and resonates with the target audience.\n"
          ]
        }
      ]
    },
    {
      "cell_type": "markdown",
      "source": [
        "#                **Main Methods Of Output Parser**\n",
        "\n",
        "get_format_instructions() -> str: This method returns a string with instructions on how the LLM should structure the response.\n",
        "\n",
        "parse(str) -> Any: This method accepts a string (usually the model's response)and returns it structured according to the instructions."
      ],
      "metadata": {
        "id": "zZeW61QCwtxG"
      }
    },
    {
      "cell_type": "markdown",
      "source": [
        "# **STRUCTURED OUTPUT PARSER**"
      ],
      "metadata": {
        "id": "XOW9igxtxn8k"
      }
    },
    {
      "cell_type": "code",
      "source": [
        "from langchain.output_parsers import ResponseSchema\n",
        "from langchain.output_parsers import StructuredOutputParser\n",
        "\n",
        "brand_name_schema = ResponseSchema(\n",
        "                        name=\"brand_name\",\n",
        "                        description=\"This is the name of the brand\"\n",
        "                    )\n",
        "\n",
        "likelihood_of_success_schema = ResponseSchema(\n",
        "                                  name=\"likelihood_of_success\",\n",
        "                                  description=\"This is an integer score between 1-10\"\n",
        "                              )\n",
        "\n",
        "reasoning_schema = ResponseSchema(\n",
        "                          name=\"reasoning\",\n",
        "                          description=\"This is the reasons for the score\"\n",
        "                    )\n",
        "\n",
        "response_schemas = [brand_name_schema,\n",
        "                    likelihood_of_success_schema,\n",
        "                    reasoning_schema]"
      ],
      "metadata": {
        "id": "y-evYWf2xiWC"
      },
      "execution_count": 12,
      "outputs": []
    },
    {
      "cell_type": "code",
      "source": [
        "Structured_output_parser = StructuredOutputParser.from_response_schemas(response_schemas)\n",
        "\n",
        "format_instructions = Structured_output_parser.get_format_instructions()\n",
        "\n",
        "format_instructions"
      ],
      "metadata": {
        "colab": {
          "base_uri": "https://localhost:8080/",
          "height": 53
        },
        "id": "x_zkY74yyH2w",
        "outputId": "fb86702c-9e66-400d-b045-501d7c7f6212"
      },
      "execution_count": 13,
      "outputs": [
        {
          "output_type": "execute_result",
          "data": {
            "text/plain": [
              "'The output should be a markdown code snippet formatted in the following schema, including the leading and trailing \"```json\" and \"```\":\\n\\n```json\\n{\\n\\t\"brand_name\": string  // This is the name of the brand\\n\\t\"likelihood_of_success\": string  // This is an integer score between 1-10\\n\\t\"reasoning\": string  // This is the reasons for the score\\n}\\n```'"
            ],
            "application/vnd.google.colaboratory.intrinsic+json": {
              "type": "string"
            }
          },
          "metadata": {},
          "execution_count": 13
        }
      ]
    },
    {
      "cell_type": "code",
      "source": [
        "template_string = \"\"\"You are a master branding consulatant who specializes in naming brands. \\\n",
        "You come up with catchy and memorable brand names.\n",
        "\n",
        "Take the brand description below delimited by triple backticks and use it to create the name for a brand.\n",
        "\n",
        "brand description: ```{brand_description}```\n",
        "\n",
        "then based on the description and give hot new brand name give the brand a score 1-10 for how likely it is to succeed and give the reason for choosing the name.\n",
        "\n",
        "{format_instructions}\n",
        "\"\"\""
      ],
      "metadata": {
        "id": "pzgN87uZysev"
      },
      "execution_count": 14,
      "outputs": []
    },
    {
      "cell_type": "code",
      "source": [
        "prompt = ChatPromptTemplate.from_template(template=template_string)\n",
        "SOPmessages = prompt.format_messages(\n",
        "                        brand_description=\"Revolutionize your mobile experience with the sleek elegance and cutting-edge technology, where innovation meets style.\",\n",
        "                        format_instructions=format_instructions\n",
        "                        )"
      ],
      "metadata": {
        "id": "6lzq6LsKyeAl"
      },
      "execution_count": 18,
      "outputs": []
    },
    {
      "cell_type": "code",
      "source": [
        "print(SOPmessages[0].content)"
      ],
      "metadata": {
        "colab": {
          "base_uri": "https://localhost:8080/"
        },
        "id": "ubthiAYWy2KR",
        "outputId": "15750ea6-5751-4c2f-b925-0de01142d4e2"
      },
      "execution_count": 19,
      "outputs": [
        {
          "output_type": "stream",
          "name": "stdout",
          "text": [
            "You are a master branding consulatant who specializes in naming brands. You come up with catchy and memorable brand names.\n",
            "\n",
            "Take the brand description below delimited by triple backticks and use it to create the name for a brand.\n",
            "\n",
            "brand description: ```Revolutionize your mobile experience with the sleek elegance and cutting-edge technology, where innovation meets style.```\n",
            "\n",
            "then based on the description and give hot new brand name give the brand a score 1-10 for how likely it is to succeed and give the reason for choosing the name.\n",
            "\n",
            "The output should be a markdown code snippet formatted in the following schema, including the leading and trailing \"```json\" and \"```\":\n",
            "\n",
            "```json\n",
            "{\n",
            "\t\"brand_name\": string  // This is the name of the brand\n",
            "\t\"likelihood_of_success\": string  // This is an integer score between 1-10\n",
            "\t\"reasoning\": string  // This is the reasons for the score\n",
            "}\n",
            "```\n",
            "\n"
          ]
        }
      ]
    },
    {
      "cell_type": "code",
      "source": [
        "SOPresponse = llm(SOPmessages)\n",
        "SOPresponse"
      ],
      "metadata": {
        "colab": {
          "base_uri": "https://localhost:8080/"
        },
        "id": "LTJiM5xQy7IQ",
        "outputId": "eb272a4e-a33c-45b6-ad3c-50a2e5d9d006"
      },
      "execution_count": 21,
      "outputs": [
        {
          "output_type": "execute_result",
          "data": {
            "text/plain": [
              "AIMessage(content='```json\\n{\\n\\t\"brand_name\": \"InnovaStyle\",\\n\\t\"likelihood_of_success\": \"9\",\\n\\t\"reasoning\": \"The name \\'InnovaStyle\\' combines the words \\'innovation\\' and \\'style\\' to reflect the brand\\'s focus on cutting-edge technology and sleek elegance. It is catchy, memorable, and suggests a brand that is modern and forward-thinking. The name has a high likelihood of success as it effectively communicates the brand\\'s key attributes and resonates with the target audience.\"\\n}\\n```', additional_kwargs={}, example=False)"
            ]
          },
          "metadata": {},
          "execution_count": 21
        }
      ]
    },
    {
      "cell_type": "code",
      "source": [
        "SOPresponsemsg = Structured_output_parser.parse(SOPresponse.content)\n",
        "SOPresponsemsg"
      ],
      "metadata": {
        "colab": {
          "base_uri": "https://localhost:8080/"
        },
        "id": "3xBQ7dXgzcYP",
        "outputId": "f51734f9-3875-439d-ae5f-db8781b21a78"
      },
      "execution_count": 24,
      "outputs": [
        {
          "output_type": "execute_result",
          "data": {
            "text/plain": [
              "{'brand_name': 'InnovaStyle',\n",
              " 'likelihood_of_success': '9',\n",
              " 'reasoning': \"The name 'InnovaStyle' combines the words 'innovation' and 'style' to reflect the brand's focus on cutting-edge technology and sleek elegance. It is catchy, memorable, and suggests a brand that is modern and forward-thinking. The name has a high likelihood of success as it effectively communicates the brand's key attributes and resonates with the target audience.\"}"
            ]
          },
          "metadata": {},
          "execution_count": 24
        }
      ]
    },
    {
      "cell_type": "code",
      "source": [
        "type(SOPresponsemsg[\"likelihood_of_success\"])"
      ],
      "metadata": {
        "colab": {
          "base_uri": "https://localhost:8080/"
        },
        "id": "_BJEkiJr0H2b",
        "outputId": "ee28d288-30da-4534-f6c7-7b0a1b89923b"
      },
      "execution_count": 25,
      "outputs": [
        {
          "output_type": "execute_result",
          "data": {
            "text/plain": [
              "str"
            ]
          },
          "metadata": {},
          "execution_count": 25
        }
      ]
    },
    {
      "cell_type": "markdown",
      "source": [
        "# **Pydantic Output Parser**"
      ],
      "metadata": {
        "id": "obP1yJze0CFe"
      }
    },
    {
      "cell_type": "code",
      "source": [
        "from langchain.output_parsers import PydanticOutputParser\n",
        "from pydantic import BaseModel, Field, validator\n",
        "from typing import List"
      ],
      "metadata": {
        "id": "lZEU9HEBz_md"
      },
      "execution_count": 26,
      "outputs": []
    },
    {
      "cell_type": "code",
      "source": [
        "class BrandInfo(BaseModel):\n",
        "    brand_name: str = Field(description=\"This is the name of the brand\")\n",
        "    likelihood_of_success: int = Field(description=\"This is an integer score between 1-10\")\n",
        "    reasoning: str = Field(description=\"This is the reasons for the score\")\n",
        "\n",
        "    @validator('likelihood_of_success')\n",
        "    def check_score(cls, field):\n",
        "        if field >10:\n",
        "            raise ValueError(\"Badly formed Score\")\n",
        "        return field"
      ],
      "metadata": {
        "id": "B-mt05N90WO9"
      },
      "execution_count": 27,
      "outputs": []
    },
    {
      "cell_type": "code",
      "source": [
        "pydantic_parser = PydanticOutputParser(pydantic_object=BrandInfo)\n",
        "\n",
        "pydantic_format_instructions = pydantic_parser.get_format_instructions()\n",
        "print(pydantic_format_instructions)"
      ],
      "metadata": {
        "colab": {
          "base_uri": "https://localhost:8080/"
        },
        "id": "SHjm_36Q00dj",
        "outputId": "f7343a3b-5994-4632-b794-bb0d298424f8"
      },
      "execution_count": 28,
      "outputs": [
        {
          "output_type": "stream",
          "name": "stdout",
          "text": [
            "The output should be formatted as a JSON instance that conforms to the JSON schema below.\n",
            "\n",
            "As an example, for the schema {\"properties\": {\"foo\": {\"title\": \"Foo\", \"description\": \"a list of strings\", \"type\": \"array\", \"items\": {\"type\": \"string\"}}}, \"required\": [\"foo\"]}}\n",
            "the object {\"foo\": [\"bar\", \"baz\"]} is a well-formatted instance of the schema. The object {\"properties\": {\"foo\": [\"bar\", \"baz\"]}} is not well-formatted.\n",
            "\n",
            "Here is the output schema:\n",
            "```\n",
            "{\"properties\": {\"brand_name\": {\"title\": \"Brand Name\", \"description\": \"This is the name of the brand\", \"type\": \"string\"}, \"likelihood_of_success\": {\"title\": \"Likelihood Of Success\", \"description\": \"This is an integer score between 1-10\", \"type\": \"integer\"}, \"reasoning\": {\"title\": \"Reasoning\", \"description\": \"This is the reasons for the score\", \"type\": \"string\"}}, \"required\": [\"brand_name\", \"likelihood_of_success\", \"reasoning\"]}\n",
            "```\n"
          ]
        }
      ]
    },
    {
      "cell_type": "code",
      "source": [
        "prompt = ChatPromptTemplate.from_template(template=template_string)\n",
        "\n",
        "pydantic_messages = prompt.format_messages(brand_description=\"Revolutionize your mobile experience with the sleek elegance and cutting-edge technology, where innovation meets style.\",\n",
        "                                format_instructions=pydantic_format_instructions)"
      ],
      "metadata": {
        "id": "sJc2mNa81Gk6"
      },
      "execution_count": 35,
      "outputs": []
    },
    {
      "cell_type": "code",
      "source": [
        "pydantic_response = llm(pydantic_messages)\n",
        "pydantic_response"
      ],
      "metadata": {
        "colab": {
          "base_uri": "https://localhost:8080/"
        },
        "id": "Pj36cuRo1hSi",
        "outputId": "7ab1ea15-22d2-416c-db83-54b51c40c5d3"
      },
      "execution_count": 38,
      "outputs": [
        {
          "output_type": "execute_result",
          "data": {
            "text/plain": [
              "AIMessage(content='{\"brand_name\": \"InnovaStyle\", \"likelihood_of_success\": 9, \"reasoning\": \"The name combines the words \\'innovation\\' and \\'style\\', which perfectly captures the brand\\'s promise of revolutionizing the mobile experience with sleek elegance and cutting-edge technology. It is catchy, memorable, and conveys a sense of modernity and sophistication. The name has a strong potential to resonate with the target audience and differentiate the brand from competitors.\"}', additional_kwargs={}, example=False)"
            ]
          },
          "metadata": {},
          "execution_count": 38
        }
      ]
    },
    {
      "cell_type": "code",
      "source": [
        "pydantic_response_msg = pydantic_parser.parse(pydantic_response.content)\n",
        "pydantic_response_msg"
      ],
      "metadata": {
        "colab": {
          "base_uri": "https://localhost:8080/"
        },
        "id": "qNaDCZf92Ovz",
        "outputId": "db36245e-bcae-4c8c-825c-13a1771ee32e"
      },
      "execution_count": 39,
      "outputs": [
        {
          "output_type": "execute_result",
          "data": {
            "text/plain": [
              "BrandInfo(brand_name='InnovaStyle', likelihood_of_success=9, reasoning=\"The name combines the words 'innovation' and 'style', which perfectly captures the brand's promise of revolutionizing the mobile experience with sleek elegance and cutting-edge technology. It is catchy, memorable, and conveys a sense of modernity and sophistication. The name has a strong potential to resonate with the target audience and differentiate the brand from competitors.\")"
            ]
          },
          "metadata": {},
          "execution_count": 39
        }
      ]
    },
    {
      "cell_type": "code",
      "source": [
        "type(pydantic_response_msg.likelihood_of_success)"
      ],
      "metadata": {
        "colab": {
          "base_uri": "https://localhost:8080/"
        },
        "id": "7MaXdlfs2gkF",
        "outputId": "41cfbf30-d11f-44f1-a08e-a9baeb6d47aa"
      },
      "execution_count": 40,
      "outputs": [
        {
          "output_type": "execute_result",
          "data": {
            "text/plain": [
              "int"
            ]
          },
          "metadata": {},
          "execution_count": 40
        }
      ]
    },
    {
      "cell_type": "markdown",
      "source": [
        "# **List Parser**"
      ],
      "metadata": {
        "id": "-NGQLwyD3IrC"
      }
    },
    {
      "cell_type": "code",
      "source": [
        "from langchain.output_parsers import CommaSeparatedListOutputParser\n",
        "from langchain.prompts import PromptTemplate, ChatPromptTemplate, HumanMessagePromptTemplate\n",
        "from langchain.llms import OpenAI\n",
        "from langchain.chat_models import ChatOpenAI\n",
        "\n",
        "List_parser = CommaSeparatedListOutputParser()\n",
        "format_instructions = List_parser.get_format_instructions()\n",
        "format_instructions"
      ],
      "metadata": {
        "colab": {
          "base_uri": "https://localhost:8080/",
          "height": 36
        },
        "id": "_PoTrXwn2psm",
        "outputId": "be988d06-9394-4bf1-8560-91874c5e3462"
      },
      "execution_count": 41,
      "outputs": [
        {
          "output_type": "execute_result",
          "data": {
            "text/plain": [
              "'Your response should be a list of comma separated values, eg: `foo, bar, baz`'"
            ],
            "application/vnd.google.colaboratory.intrinsic+json": {
              "type": "string"
            }
          },
          "metadata": {},
          "execution_count": 41
        }
      ]
    },
    {
      "cell_type": "code",
      "source": [
        "List_template_string=\"Give me 4 possible marketing slogans for a mobile brand named {brand_name} :\\n\\n{format_instructions}\"\n",
        "\n",
        "List_prompt = ChatPromptTemplate(\n",
        "    messages=[\n",
        "        HumanMessagePromptTemplate.from_template(List_template_string)\n",
        "    ],\n",
        "    input_variables=[\"brand_name\"],\n",
        "    partial_variables={\"format_instructions\": format_instructions}\n",
        ")\n"
      ],
      "metadata": {
        "id": "dsCjYYFz3RMD"
      },
      "execution_count": 79,
      "outputs": []
    },
    {
      "cell_type": "code",
      "source": [
        "List_message = List_prompt.format_messages(brand_name=pydantic_response_msg.brand_name,\n",
        "                                format_instructions=format_instructions)"
      ],
      "metadata": {
        "id": "ePsBQzMJ3qVR"
      },
      "execution_count": 80,
      "outputs": []
    },
    {
      "cell_type": "code",
      "source": [
        "List_response = llm(List_message)\n",
        "slogans = List_parser.parse(List_response.content)\n",
        "slogans"
      ],
      "metadata": {
        "colab": {
          "base_uri": "https://localhost:8080/"
        },
        "id": "NFSbGwTw3_3D",
        "outputId": "19dbda13-3be0-4b89-b60f-dd011fada2a5"
      },
      "execution_count": 81,
      "outputs": [
        {
          "output_type": "execute_result",
          "data": {
            "text/plain": [
              "['\"Innovate your style with InnovaStyle\"\\n\"Unleash your mobile experience with InnovaStyle\"\\n\"Stay ahead',\n",
              " 'choose InnovaStyle\"\\n\"Experience innovation',\n",
              " 'choose InnovaStyle\"']"
            ]
          },
          "metadata": {},
          "execution_count": 81
        }
      ]
    },
    {
      "cell_type": "markdown",
      "source": [
        "# **Output_Fixing_Parser**"
      ],
      "metadata": {
        "id": "bGrI_K4j4s_7"
      }
    },
    {
      "cell_type": "code",
      "source": [
        "class Actor(BaseModel):\n",
        "    name: str = Field(description=\"name of an actor\")\n",
        "    film_names: List[str] = Field(description=\"list of names of films they starred in\")\n",
        "\n",
        "actor_query = \"Generate the filmography for a random actor.\"\n",
        "\n",
        "parser = PydanticOutputParser(pydantic_object=Actor)"
      ],
      "metadata": {
        "id": "xysjKAjc4neR"
      },
      "execution_count": 49,
      "outputs": []
    },
    {
      "cell_type": "code",
      "source": [
        "Right_format = '{\"name\": \"Chris Evans\", \"film_names\": [\"Captain America: The First Avenger\"]}'"
      ],
      "metadata": {
        "id": "xmWKe_MJ5D_U"
      },
      "execution_count": 52,
      "outputs": []
    },
    {
      "cell_type": "code",
      "source": [
        "parser.parse(Right_format)"
      ],
      "metadata": {
        "colab": {
          "base_uri": "https://localhost:8080/"
        },
        "id": "B6BGWDbT5cDC",
        "outputId": "96d6c384-4890-4877-984d-23e2d7a6ca80"
      },
      "execution_count": 54,
      "outputs": [
        {
          "output_type": "execute_result",
          "data": {
            "text/plain": [
              "Actor(name='Chris Evans', film_names=['Captain America: The First Avenger'])"
            ]
          },
          "metadata": {},
          "execution_count": 54
        }
      ]
    },
    {
      "cell_type": "code",
      "source": [
        "Wrong_Format =\"{'name': 'Chris Evans', 'film_names': ['Captain America: The First Avenger']}\"\n",
        "parser.parse(Wrong_Format)"
      ],
      "metadata": {
        "colab": {
          "base_uri": "https://localhost:8080/",
          "height": 432
        },
        "id": "u3cROlrJ5wQN",
        "outputId": "2101c27f-718e-45a4-8bef-cef735afd549"
      },
      "execution_count": 55,
      "outputs": [
        {
          "output_type": "error",
          "ename": "OutputParserException",
          "evalue": "ignored",
          "traceback": [
            "\u001b[0;31m---------------------------------------------------------------------------\u001b[0m",
            "\u001b[0;31mJSONDecodeError\u001b[0m                           Traceback (most recent call last)",
            "\u001b[0;32m/usr/local/lib/python3.10/dist-packages/langchain/output_parsers/pydantic.py\u001b[0m in \u001b[0;36mparse\u001b[0;34m(self, text)\u001b[0m\n\u001b[1;32m     24\u001b[0m                 \u001b[0mjson_str\u001b[0m \u001b[0;34m=\u001b[0m \u001b[0mmatch\u001b[0m\u001b[0;34m.\u001b[0m\u001b[0mgroup\u001b[0m\u001b[0;34m(\u001b[0m\u001b[0;34m)\u001b[0m\u001b[0;34m\u001b[0m\u001b[0;34m\u001b[0m\u001b[0m\n\u001b[0;32m---> 25\u001b[0;31m             \u001b[0mjson_object\u001b[0m \u001b[0;34m=\u001b[0m \u001b[0mjson\u001b[0m\u001b[0;34m.\u001b[0m\u001b[0mloads\u001b[0m\u001b[0;34m(\u001b[0m\u001b[0mjson_str\u001b[0m\u001b[0;34m,\u001b[0m \u001b[0mstrict\u001b[0m\u001b[0;34m=\u001b[0m\u001b[0;32mFalse\u001b[0m\u001b[0;34m)\u001b[0m\u001b[0;34m\u001b[0m\u001b[0;34m\u001b[0m\u001b[0m\n\u001b[0m\u001b[1;32m     26\u001b[0m             \u001b[0;32mreturn\u001b[0m \u001b[0mself\u001b[0m\u001b[0;34m.\u001b[0m\u001b[0mpydantic_object\u001b[0m\u001b[0;34m.\u001b[0m\u001b[0mparse_obj\u001b[0m\u001b[0;34m(\u001b[0m\u001b[0mjson_object\u001b[0m\u001b[0;34m)\u001b[0m\u001b[0;34m\u001b[0m\u001b[0;34m\u001b[0m\u001b[0m\n",
            "\u001b[0;32m/usr/lib/python3.10/json/__init__.py\u001b[0m in \u001b[0;36mloads\u001b[0;34m(s, cls, object_hook, parse_float, parse_int, parse_constant, object_pairs_hook, **kw)\u001b[0m\n\u001b[1;32m    358\u001b[0m         \u001b[0mkw\u001b[0m\u001b[0;34m[\u001b[0m\u001b[0;34m'parse_constant'\u001b[0m\u001b[0;34m]\u001b[0m \u001b[0;34m=\u001b[0m \u001b[0mparse_constant\u001b[0m\u001b[0;34m\u001b[0m\u001b[0;34m\u001b[0m\u001b[0m\n\u001b[0;32m--> 359\u001b[0;31m     \u001b[0;32mreturn\u001b[0m \u001b[0mcls\u001b[0m\u001b[0;34m(\u001b[0m\u001b[0;34m**\u001b[0m\u001b[0mkw\u001b[0m\u001b[0;34m)\u001b[0m\u001b[0;34m.\u001b[0m\u001b[0mdecode\u001b[0m\u001b[0;34m(\u001b[0m\u001b[0ms\u001b[0m\u001b[0;34m)\u001b[0m\u001b[0;34m\u001b[0m\u001b[0;34m\u001b[0m\u001b[0m\n\u001b[0m",
            "\u001b[0;32m/usr/lib/python3.10/json/decoder.py\u001b[0m in \u001b[0;36mdecode\u001b[0;34m(self, s, _w)\u001b[0m\n\u001b[1;32m    336\u001b[0m         \"\"\"\n\u001b[0;32m--> 337\u001b[0;31m         \u001b[0mobj\u001b[0m\u001b[0;34m,\u001b[0m \u001b[0mend\u001b[0m \u001b[0;34m=\u001b[0m \u001b[0mself\u001b[0m\u001b[0;34m.\u001b[0m\u001b[0mraw_decode\u001b[0m\u001b[0;34m(\u001b[0m\u001b[0ms\u001b[0m\u001b[0;34m,\u001b[0m \u001b[0midx\u001b[0m\u001b[0;34m=\u001b[0m\u001b[0m_w\u001b[0m\u001b[0;34m(\u001b[0m\u001b[0ms\u001b[0m\u001b[0;34m,\u001b[0m \u001b[0;36m0\u001b[0m\u001b[0;34m)\u001b[0m\u001b[0;34m.\u001b[0m\u001b[0mend\u001b[0m\u001b[0;34m(\u001b[0m\u001b[0;34m)\u001b[0m\u001b[0;34m)\u001b[0m\u001b[0;34m\u001b[0m\u001b[0;34m\u001b[0m\u001b[0m\n\u001b[0m\u001b[1;32m    338\u001b[0m         \u001b[0mend\u001b[0m \u001b[0;34m=\u001b[0m \u001b[0m_w\u001b[0m\u001b[0;34m(\u001b[0m\u001b[0ms\u001b[0m\u001b[0;34m,\u001b[0m \u001b[0mend\u001b[0m\u001b[0;34m)\u001b[0m\u001b[0;34m.\u001b[0m\u001b[0mend\u001b[0m\u001b[0;34m(\u001b[0m\u001b[0;34m)\u001b[0m\u001b[0;34m\u001b[0m\u001b[0;34m\u001b[0m\u001b[0m\n",
            "\u001b[0;32m/usr/lib/python3.10/json/decoder.py\u001b[0m in \u001b[0;36mraw_decode\u001b[0;34m(self, s, idx)\u001b[0m\n\u001b[1;32m    352\u001b[0m         \u001b[0;32mtry\u001b[0m\u001b[0;34m:\u001b[0m\u001b[0;34m\u001b[0m\u001b[0;34m\u001b[0m\u001b[0m\n\u001b[0;32m--> 353\u001b[0;31m             \u001b[0mobj\u001b[0m\u001b[0;34m,\u001b[0m \u001b[0mend\u001b[0m \u001b[0;34m=\u001b[0m \u001b[0mself\u001b[0m\u001b[0;34m.\u001b[0m\u001b[0mscan_once\u001b[0m\u001b[0;34m(\u001b[0m\u001b[0ms\u001b[0m\u001b[0;34m,\u001b[0m \u001b[0midx\u001b[0m\u001b[0;34m)\u001b[0m\u001b[0;34m\u001b[0m\u001b[0;34m\u001b[0m\u001b[0m\n\u001b[0m\u001b[1;32m    354\u001b[0m         \u001b[0;32mexcept\u001b[0m \u001b[0mStopIteration\u001b[0m \u001b[0;32mas\u001b[0m \u001b[0merr\u001b[0m\u001b[0;34m:\u001b[0m\u001b[0;34m\u001b[0m\u001b[0;34m\u001b[0m\u001b[0m\n",
            "\u001b[0;31mJSONDecodeError\u001b[0m: Expecting property name enclosed in double quotes: line 1 column 2 (char 1)",
            "\nDuring handling of the above exception, another exception occurred:\n",
            "\u001b[0;31mOutputParserException\u001b[0m                     Traceback (most recent call last)",
            "\u001b[0;32m<ipython-input-55-18b2827a734d>\u001b[0m in \u001b[0;36m<cell line: 2>\u001b[0;34m()\u001b[0m\n\u001b[1;32m      1\u001b[0m \u001b[0mWrong_Format\u001b[0m \u001b[0;34m=\u001b[0m\u001b[0;34m\"{'name': 'Chris Evans', 'film_names': ['Captain America: The First Avenger']}\"\u001b[0m\u001b[0;34m\u001b[0m\u001b[0;34m\u001b[0m\u001b[0m\n\u001b[0;32m----> 2\u001b[0;31m \u001b[0mparser\u001b[0m\u001b[0;34m.\u001b[0m\u001b[0mparse\u001b[0m\u001b[0;34m(\u001b[0m\u001b[0mWrong_Format\u001b[0m\u001b[0;34m)\u001b[0m\u001b[0;34m\u001b[0m\u001b[0;34m\u001b[0m\u001b[0m\n\u001b[0m",
            "\u001b[0;32m/usr/local/lib/python3.10/dist-packages/langchain/output_parsers/pydantic.py\u001b[0m in \u001b[0;36mparse\u001b[0;34m(self, text)\u001b[0m\n\u001b[1;32m     29\u001b[0m             \u001b[0mname\u001b[0m \u001b[0;34m=\u001b[0m \u001b[0mself\u001b[0m\u001b[0;34m.\u001b[0m\u001b[0mpydantic_object\u001b[0m\u001b[0;34m.\u001b[0m\u001b[0m__name__\u001b[0m\u001b[0;34m\u001b[0m\u001b[0;34m\u001b[0m\u001b[0m\n\u001b[1;32m     30\u001b[0m             \u001b[0mmsg\u001b[0m \u001b[0;34m=\u001b[0m \u001b[0;34mf\"Failed to parse {name} from completion {text}. Got: {e}\"\u001b[0m\u001b[0;34m\u001b[0m\u001b[0;34m\u001b[0m\u001b[0m\n\u001b[0;32m---> 31\u001b[0;31m             \u001b[0;32mraise\u001b[0m \u001b[0mOutputParserException\u001b[0m\u001b[0;34m(\u001b[0m\u001b[0mmsg\u001b[0m\u001b[0;34m)\u001b[0m\u001b[0;34m\u001b[0m\u001b[0;34m\u001b[0m\u001b[0m\n\u001b[0m\u001b[1;32m     32\u001b[0m \u001b[0;34m\u001b[0m\u001b[0m\n\u001b[1;32m     33\u001b[0m     \u001b[0;32mdef\u001b[0m \u001b[0mget_format_instructions\u001b[0m\u001b[0;34m(\u001b[0m\u001b[0mself\u001b[0m\u001b[0;34m)\u001b[0m \u001b[0;34m->\u001b[0m \u001b[0mstr\u001b[0m\u001b[0;34m:\u001b[0m\u001b[0;34m\u001b[0m\u001b[0;34m\u001b[0m\u001b[0m\n",
            "\u001b[0;31mOutputParserException\u001b[0m: Failed to parse Actor from completion {'name': 'Chris Evans', 'film_names': ['Captain America: The First Avenger']}. Got: Expecting property name enclosed in double quotes: line 1 column 2 (char 1)"
          ]
        }
      ]
    },
    {
      "cell_type": "code",
      "source": [
        "from langchain.output_parsers import OutputFixingParser\n",
        "\n",
        "new_parser = OutputFixingParser.from_llm(parser=parser, llm=ChatOpenAI())"
      ],
      "metadata": {
        "id": "tW0Icl1q6WH3"
      },
      "execution_count": 56,
      "outputs": []
    },
    {
      "cell_type": "code",
      "source": [
        "new_parser.parse(Wrong_Format)"
      ],
      "metadata": {
        "colab": {
          "base_uri": "https://localhost:8080/"
        },
        "id": "mrLCsqwt6a-c",
        "outputId": "9410e8c5-81aa-4e7f-e6bb-0615f43dbd17"
      },
      "execution_count": 57,
      "outputs": [
        {
          "output_type": "execute_result",
          "data": {
            "text/plain": [
              "Actor(name='Chris Evans', film_names=['Captain America: The First Avenger'])"
            ]
          },
          "metadata": {},
          "execution_count": 57
        }
      ]
    },
    {
      "cell_type": "markdown",
      "source": [
        "# **RetryOutputParser**"
      ],
      "metadata": {
        "id": "6raA0nIv9Lc1"
      }
    },
    {
      "cell_type": "code",
      "source": [
        "from langchain.output_parsers import PydanticOutputParser, OutputFixingParser, RetryOutputParser"
      ],
      "metadata": {
        "id": "FdpzvNBJ9R10"
      },
      "execution_count": 58,
      "outputs": []
    },
    {
      "cell_type": "code",
      "source": [
        "template = \"\"\"Based on the user question, provide an Action and Action Input for what step should be taken.\n",
        "{format_instructions}\n",
        "Question: {query}\n",
        "Response:\"\"\"\n",
        "class Action(BaseModel):\n",
        "\n",
        "    action: str = Field(description=\"action to take\")\n",
        "    action_input: str = Field(description=\"input to the action\")\n",
        "\n",
        "pyparser = PydanticOutputParser(pydantic_object=Action)"
      ],
      "metadata": {
        "id": "DsEHDysa9V6i"
      },
      "execution_count": 66,
      "outputs": []
    },
    {
      "cell_type": "code",
      "source": [
        "Fix_prompt = PromptTemplate(\n",
        "    template=\"Answer the user query.\\n{format_instructions}\\n{query}\\n\",\n",
        "    input_variables=[\"query\"],\n",
        "    partial_variables={\"format_instructions\": pyparser.get_format_instructions()}\n",
        ")"
      ],
      "metadata": {
        "id": "XpIQ8q0Y9kzf"
      },
      "execution_count": 82,
      "outputs": []
    },
    {
      "cell_type": "code",
      "source": [
        "query = \"who is Alan Turing?\"\n",
        "prompt_value = Fix_prompt.format_prompt(query=query)\n",
        "prompt_value"
      ],
      "metadata": {
        "colab": {
          "base_uri": "https://localhost:8080/"
        },
        "id": "DUXsLu7Q9qQB",
        "outputId": "c1f3b225-a001-41df-a6bd-8a5bbdae4c61"
      },
      "execution_count": 83,
      "outputs": [
        {
          "output_type": "execute_result",
          "data": {
            "text/plain": [
              "StringPromptValue(text='Answer the user query.\\nThe output should be formatted as a JSON instance that conforms to the JSON schema below.\\n\\nAs an example, for the schema {\"properties\": {\"foo\": {\"title\": \"Foo\", \"description\": \"a list of strings\", \"type\": \"array\", \"items\": {\"type\": \"string\"}}}, \"required\": [\"foo\"]}}\\nthe object {\"foo\": [\"bar\", \"baz\"]} is a well-formatted instance of the schema. The object {\"properties\": {\"foo\": [\"bar\", \"baz\"]}} is not well-formatted.\\n\\nHere is the output schema:\\n```\\n{\"properties\": {\"action\": {\"title\": \"Action\", \"description\": \"action to take\", \"type\": \"string\"}, \"action_input\": {\"title\": \"Action Input\", \"description\": \"input to the action\", \"type\": \"string\"}}, \"required\": [\"action\", \"action_input\"]}\\n```\\nwho is Alan Turing?\\n')"
            ]
          },
          "metadata": {},
          "execution_count": 83
        }
      ]
    },
    {
      "cell_type": "code",
      "source": [
        "# bad_response = '{\"action\": \"search\",\"action_input\":\"'+query+'\"}'\n",
        "bad_response = '{\"action\": \"search\"}'\n",
        "pyparser.parse(bad_response)"
      ],
      "metadata": {
        "colab": {
          "base_uri": "https://localhost:8080/",
          "height": 501
        },
        "id": "uR18QMYg938E",
        "outputId": "cc964ba0-a8b7-4f14-95a1-0f4d03827e8a"
      },
      "execution_count": 71,
      "outputs": [
        {
          "output_type": "error",
          "ename": "OutputParserException",
          "evalue": "ignored",
          "traceback": [
            "\u001b[0;31m---------------------------------------------------------------------------\u001b[0m",
            "\u001b[0;31mValidationError\u001b[0m                           Traceback (most recent call last)",
            "\u001b[0;32m/usr/local/lib/python3.10/dist-packages/langchain/output_parsers/pydantic.py\u001b[0m in \u001b[0;36mparse\u001b[0;34m(self, text)\u001b[0m\n\u001b[1;32m     25\u001b[0m             \u001b[0mjson_object\u001b[0m \u001b[0;34m=\u001b[0m \u001b[0mjson\u001b[0m\u001b[0;34m.\u001b[0m\u001b[0mloads\u001b[0m\u001b[0;34m(\u001b[0m\u001b[0mjson_str\u001b[0m\u001b[0;34m,\u001b[0m \u001b[0mstrict\u001b[0m\u001b[0;34m=\u001b[0m\u001b[0;32mFalse\u001b[0m\u001b[0;34m)\u001b[0m\u001b[0;34m\u001b[0m\u001b[0;34m\u001b[0m\u001b[0m\n\u001b[0;32m---> 26\u001b[0;31m             \u001b[0;32mreturn\u001b[0m \u001b[0mself\u001b[0m\u001b[0;34m.\u001b[0m\u001b[0mpydantic_object\u001b[0m\u001b[0;34m.\u001b[0m\u001b[0mparse_obj\u001b[0m\u001b[0;34m(\u001b[0m\u001b[0mjson_object\u001b[0m\u001b[0;34m)\u001b[0m\u001b[0;34m\u001b[0m\u001b[0;34m\u001b[0m\u001b[0m\n\u001b[0m\u001b[1;32m     27\u001b[0m \u001b[0;34m\u001b[0m\u001b[0m\n",
            "\u001b[0;32m/usr/local/lib/python3.10/dist-packages/pydantic/main.cpython-310-x86_64-linux-gnu.so\u001b[0m in \u001b[0;36mpydantic.main.BaseModel.parse_obj\u001b[0;34m()\u001b[0m\n",
            "\u001b[0;32m/usr/local/lib/python3.10/dist-packages/pydantic/main.cpython-310-x86_64-linux-gnu.so\u001b[0m in \u001b[0;36mpydantic.main.BaseModel.__init__\u001b[0;34m()\u001b[0m\n",
            "\u001b[0;31mValidationError\u001b[0m: 1 validation error for Action\naction_input\n  field required (type=value_error.missing)",
            "\nDuring handling of the above exception, another exception occurred:\n",
            "\u001b[0;31mOutputParserException\u001b[0m                     Traceback (most recent call last)",
            "\u001b[0;32m<ipython-input-71-92e10574f045>\u001b[0m in \u001b[0;36m<cell line: 3>\u001b[0;34m()\u001b[0m\n\u001b[1;32m      1\u001b[0m \u001b[0;31m# bad_response = '{\"action\": \"search\",\"action_input\":\"'+query+'\"}'\u001b[0m\u001b[0;34m\u001b[0m\u001b[0;34m\u001b[0m\u001b[0m\n\u001b[1;32m      2\u001b[0m \u001b[0mbad_response\u001b[0m \u001b[0;34m=\u001b[0m \u001b[0;34m'{\"action\": \"search\"}'\u001b[0m\u001b[0;34m\u001b[0m\u001b[0;34m\u001b[0m\u001b[0m\n\u001b[0;32m----> 3\u001b[0;31m \u001b[0mpyparser\u001b[0m\u001b[0;34m.\u001b[0m\u001b[0mparse\u001b[0m\u001b[0;34m(\u001b[0m\u001b[0mbad_response\u001b[0m\u001b[0;34m)\u001b[0m\u001b[0;34m\u001b[0m\u001b[0;34m\u001b[0m\u001b[0m\n\u001b[0m",
            "\u001b[0;32m/usr/local/lib/python3.10/dist-packages/langchain/output_parsers/pydantic.py\u001b[0m in \u001b[0;36mparse\u001b[0;34m(self, text)\u001b[0m\n\u001b[1;32m     29\u001b[0m             \u001b[0mname\u001b[0m \u001b[0;34m=\u001b[0m \u001b[0mself\u001b[0m\u001b[0;34m.\u001b[0m\u001b[0mpydantic_object\u001b[0m\u001b[0;34m.\u001b[0m\u001b[0m__name__\u001b[0m\u001b[0;34m\u001b[0m\u001b[0;34m\u001b[0m\u001b[0m\n\u001b[1;32m     30\u001b[0m             \u001b[0mmsg\u001b[0m \u001b[0;34m=\u001b[0m \u001b[0;34mf\"Failed to parse {name} from completion {text}. Got: {e}\"\u001b[0m\u001b[0;34m\u001b[0m\u001b[0;34m\u001b[0m\u001b[0m\n\u001b[0;32m---> 31\u001b[0;31m             \u001b[0;32mraise\u001b[0m \u001b[0mOutputParserException\u001b[0m\u001b[0;34m(\u001b[0m\u001b[0mmsg\u001b[0m\u001b[0;34m)\u001b[0m\u001b[0;34m\u001b[0m\u001b[0;34m\u001b[0m\u001b[0m\n\u001b[0m\u001b[1;32m     32\u001b[0m \u001b[0;34m\u001b[0m\u001b[0m\n\u001b[1;32m     33\u001b[0m     \u001b[0;32mdef\u001b[0m \u001b[0mget_format_instructions\u001b[0m\u001b[0;34m(\u001b[0m\u001b[0mself\u001b[0m\u001b[0;34m)\u001b[0m \u001b[0;34m->\u001b[0m \u001b[0mstr\u001b[0m\u001b[0;34m:\u001b[0m\u001b[0;34m\u001b[0m\u001b[0;34m\u001b[0m\u001b[0m\n",
            "\u001b[0;31mOutputParserException\u001b[0m: Failed to parse Action from completion {\"action\": \"search\"}. Got: 1 validation error for Action\naction_input\n  field required (type=value_error.missing)"
          ]
        }
      ]
    },
    {
      "cell_type": "code",
      "source": [
        "output_fix_parser = OutputFixingParser.from_llm(parser=pyparser, llm=ChatOpenAI())\n",
        "output_fix_parser.parse(bad_response)"
      ],
      "metadata": {
        "colab": {
          "base_uri": "https://localhost:8080/"
        },
        "id": "qhXtQEdO-gcR",
        "outputId": "d2787e8c-ce09-4e75-9a52-3251efd6ffb9"
      },
      "execution_count": 73,
      "outputs": [
        {
          "output_type": "execute_result",
          "data": {
            "text/plain": [
              "Action(action='search', action_input='keyword')"
            ]
          },
          "metadata": {},
          "execution_count": 73
        }
      ]
    },
    {
      "cell_type": "code",
      "source": [
        "from langchain.output_parsers import RetryWithErrorOutputParser\n",
        "retry_parser = RetryWithErrorOutputParser.from_llm(\n",
        "    parser=pyparser, llm=OpenAI(temperature=0)\n",
        ")"
      ],
      "metadata": {
        "id": "dMcj6RQs-7lz"
      },
      "execution_count": 74,
      "outputs": []
    },
    {
      "cell_type": "code",
      "source": [
        "retry_parser.parse_with_prompt(bad_response, prompt_value)\n"
      ],
      "metadata": {
        "colab": {
          "base_uri": "https://localhost:8080/"
        },
        "id": "pEI9JPDU_GCk",
        "outputId": "81673c48-221c-4020-c109-c405b7bd589a"
      },
      "execution_count": 75,
      "outputs": [
        {
          "output_type": "execute_result",
          "data": {
            "text/plain": [
              "Action(action='search', action_input='Alan Turing')"
            ]
          },
          "metadata": {},
          "execution_count": 75
        }
      ]
    },
    {
      "cell_type": "markdown",
      "source": [
        "# **Datetime parser**\n"
      ],
      "metadata": {
        "id": "L197EzRO_VTy"
      }
    },
    {
      "cell_type": "code",
      "source": [
        "from langchain.prompts import PromptTemplate\n",
        "from langchain.output_parsers import DatetimeOutputParser\n",
        "from langchain.chains import LLMChain\n",
        "from langchain.llms import OpenAI"
      ],
      "metadata": {
        "id": "y84UpCii_edd"
      },
      "execution_count": 76,
      "outputs": []
    },
    {
      "cell_type": "code",
      "source": [
        "Datetime = DatetimeOutputParser()\n",
        "template = \"\"\"Answer the users question:\n",
        "\n",
        "{question}\n",
        "\n",
        "{format_instructions}\"\"\"\n",
        "prompt = PromptTemplate.from_template(\n",
        "    template,\n",
        "    partial_variables={\"format_instructions\": Datetime.get_format_instructions()},\n",
        ")"
      ],
      "metadata": {
        "id": "faQm2Myp_jiO"
      },
      "execution_count": 77,
      "outputs": []
    },
    {
      "cell_type": "code",
      "source": [
        "Datetime.get_format_instructions()"
      ],
      "metadata": {
        "colab": {
          "base_uri": "https://localhost:8080/",
          "height": 36
        },
        "id": "_02U7djN_0y9",
        "outputId": "e68cad37-8e94-4364-aee4-b8508b3c6953"
      },
      "execution_count": 78,
      "outputs": [
        {
          "output_type": "execute_result",
          "data": {
            "text/plain": [
              "'Write a datetime string that matches the \\n            following pattern: \"%Y-%m-%dT%H:%M:%S.%fZ\". Examples: 1595-11-18T04:16:09.209251Z, 125-04-12T20:07:32.274374Z, 75-09-27T13:45:11.604056Z'"
            ],
            "application/vnd.google.colaboratory.intrinsic+json": {
              "type": "string"
            }
          },
          "metadata": {},
          "execution_count": 78
        }
      ]
    },
    {
      "cell_type": "code",
      "source": [
        "chain = LLMChain(prompt=prompt, llm=OpenAI())\n",
        "chain.run(\"when did alan turing invent the turing machine?\")"
      ],
      "metadata": {
        "colab": {
          "base_uri": "https://localhost:8080/",
          "height": 36
        },
        "id": "GcYz1QIM_8sI",
        "outputId": "52fb66f4-8158-4132-95ef-259571573686"
      },
      "execution_count": 87,
      "outputs": [
        {
          "output_type": "execute_result",
          "data": {
            "text/plain": [
              "'\\n\\n1936-06-23T00:00:00.000000Z'"
            ],
            "application/vnd.google.colaboratory.intrinsic+json": {
              "type": "string"
            }
          },
          "metadata": {},
          "execution_count": 87
        }
      ]
    }
  ]
}